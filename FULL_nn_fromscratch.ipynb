{
 "cells": [
  {
   "cell_type": "markdown",
   "metadata": {
    "collapsed": true
   },
   "source": [
    "# Building A neural network from scratch"
   ]
  },
  {
   "cell_type": "code",
   "execution_count": 179,
   "metadata": {},
   "outputs": [
    {
     "name": "stdout",
     "output_type": "stream",
     "text": [
      "The autoreload extension is already loaded. To reload it, use:\n",
      "  %reload_ext autoreload\n"
     ]
    }
   ],
   "source": [
    "import time\n",
    "import numpy as np\n",
    "import h5py\n",
    "import matplotlib.pyplot as plt\n",
    "import scipy\n",
    "from PIL import Image\n",
    "from scipy import ndimage\n",
    "from dnn_app_utils_v3 import *\n",
    "\n",
    "%matplotlib inline\n",
    "plt.rcParams['figure.figsize'] = (5.0, 4.0) # set default size of plots\n",
    "plt.rcParams['image.interpolation'] = 'nearest'\n",
    "plt.rcParams['image.cmap'] = 'gray'\n",
    "\n",
    "%load_ext autoreload\n",
    "%autoreload 2\n",
    "\n",
    "np.random.seed(1)"
   ]
  },
  {
   "cell_type": "code",
   "execution_count": 138,
   "metadata": {
    "collapsed": true
   },
   "outputs": [],
   "source": [
    "def initialization(dims):    \n",
    "    #firt initializations\n",
    "    para = {}\n",
    "    for i in range(1, len(dims)):\n",
    "        para[\"W\" + str(i)] = np.random.randn(dims[i], dims[i-1]) * 0.01\n",
    "        para[\"b\" + str(i)] = np.zeros((dims[i], 1))\n",
    "    return para\n",
    "\n",
    "\n",
    "def foward(X, para, layer_act, dims):\n",
    "    comput = {}\n",
    "    A_prev = X\n",
    "    for i in range(1, len(dims)):\n",
    "        if layer_act[\"L\" + str(i)] == \"sigmoid\":\n",
    "            comput[\"Z\" + str(i)] = np.dot(para[\"W\" + str(i)],A_prev) + para[\"b\" + str(i)]\n",
    "            comput[\"A\" + str(i)] = 1/(1+np.exp(-comput[\"Z\" + str(i)]))\n",
    "            comput[\"W\" + str(i)] = para[\"W\" + str(i)]\n",
    "        elif layer_act[\"L\" + str(i)] == \"relu\":\n",
    "            comput[\"Z\" + str(i)] = np.dot(para[\"W\" + str(i)],A_prev) + para[\"b\" + str(i)]\n",
    "            comput[\"A\" + str(i)] = np.maximum(0,comput[\"Z\" + str(i)])\n",
    "            comput[\"W\" + str(i)] = para[\"W\" + str(i)]\n",
    "         \n",
    "        A_prev = comput[\"A\" + str(i)]\n",
    "    \n",
    "    return comput\n",
    "\n",
    "\n",
    "\n",
    "def cost(pred, Y):\n",
    "    m = Y.shape[1]\n",
    "    cost = (1/m) * (-1) * np.sum(Y * np.log(pred) + (1 - Y)*np.log(1 - pred))\n",
    "   \n",
    "    cost = np.squeeze(cost)     \n",
    "    \n",
    "    return cost\n",
    "\n",
    "\n",
    "\n",
    "def backprop(comput, Y, layer_act, dim):\n",
    "    diff = {}\n",
    "    \n",
    "    q = len(dim) - 1\n",
    "\n",
    "    diff[\"dLdA\" + str(q)] = -(np.divide(Y, comput[\"A\" + str(q)])- (np.divide(1 - Y, 1 -  comput[\"A\" + str(q)] )))\n",
    "    m = diff[\"dLdA\" + str(q)].shape[1]\n",
    "    Y = Y.reshape(diff[\"dLdA\" + str(q)].shape)\n",
    "    \n",
    "    if layer_act[\"L\" + str(q)] == \"sigmoid\":\n",
    "        diff[\"dLdZ\" + str(q)] = diff[\"dLdA\" + str(q)] * comput[\"A\" + str(q)] * (1 - comput[\"A\" + str(q)])\n",
    "        diff[\"dLdW\" + str(q)] = (1/m) * np.dot(diff[\"dLdZ\" + str(q)], comput[\"A\" + str(q-1)].T)\n",
    "        diff[\"dLdb\" + str(q)] = (1/m) * np.sum(diff[\"dLdZ\" + str(q)], axis = 1, keepdims = True)\n",
    "        diff[\"dLdA\" + str(q-1)] = np.dot(comput[\"W\" + str(q)].T, diff[\"dLdZ\" + str(q)])\n",
    "            \n",
    "        \n",
    "    \n",
    "    elif layer_act[\"L\" + str(q)] == \"relu\":\n",
    "        \n",
    "        diff[\"dLdZ\" + str(q)] = np.array(diff[\"dLdA\" + str(q)], copy = True)\n",
    "        diff[\"dLdZ\" + str(q)][comput[\"Z\" + str(q)] <= 0] = 0\n",
    "        diff[\"dLdW\" + str(q)] = (1/m) * np.dot(diff[\"dLdZ\" + str(q)], comput[\"A\" + str(q-1)].T)\n",
    "        diff[\"dLdb\" + str(q)] = (1/m) * np.sum(diff[\"dLdZ\" + str(q)], axis = 1, keepdims = True)\n",
    "        diff[\"dLdA\" + str(q-1)] = np.dot(comput[\"W\" + str(q)].T, diff[\"dLdZ\" + str(q)])\n",
    "\n",
    "    \n",
    "    for i in range(q-1, 0, -1):\n",
    "        if layer_act[\"L\" + str(i)] == \"sigmoid\":\n",
    "            diff[\"dLdZ\" + str(i)] = diff[\"dLdA\" + str(i)] * comput[\"A\" + str(i)] * (1 - comput[\"A\" + str(i)])\n",
    "            diff[\"dLdW\" + str(i)] = (1/m) * np.dot(diff[\"dLdZ\" + str(i)], comput[\"A\" + str(i-1)].T)\n",
    "            diff[\"dLdb\" + str(i)] = (1/m) * np.sum(diff[\"dLdZ\" + str(i)], axis = 1, keepdims = True)\n",
    "            diff[\"dLdA\" + str(i-1)] = np.dot(comput[\"W\" + str(i)].T, diff[\"dLdZ\" + str(i)])\n",
    "        elif layer_act[\"L\" + str(i)] == \"relu\":\n",
    "            diff[\"dLdZ\" + str(i)] = np.array(diff[\"dLdA\" + str(i)], copy = True)\n",
    "            diff[\"dLdZ\" + str(i)][comput[\"Z\" + str(i)] <= 0] = 0\n",
    "            if i == 1:\n",
    "                diff[\"dLdW\" + str(i)] = (1/m) * np.dot(diff[\"dLdZ\" + str(i)], X.T)\n",
    "                diff[\"dLdb\" + str(i)] = (1/m) * np.sum(diff[\"dLdZ\" + str(i)], axis = 1, keepdims = True)\n",
    "                diff[\"dLdA\" + str(i-1)] = np.dot(comput[\"W\" + str(i)].T, diff[\"dLdZ\" + str(i)])\n",
    "            else:\n",
    "                diff[\"dLdW\" + str(i)] = (1/m) * np.dot(diff[\"dLdZ\" + str(i)], comput[\"A\" + str(i-1)].T)\n",
    "                diff[\"dLdb\" + str(i)] = (1/m) * np.sum(diff[\"dLdZ\" + str(i)], axis = 1, keepdims = True)\n",
    "                diff[\"dLdA\" + str(i-1)] = np.dot(comput[\"W\" + str(i)].T, diff[\"dLdZ\" + str(i)])\n",
    "            \n",
    "    \n",
    "          \n",
    "    return diff\n",
    " \n",
    "def update(para, diff, learning_rate):\n",
    "    L = len(para) // 2 # number of layers in the neural network\n",
    "    for l in range(L):\n",
    "        para[\"W\" + str(l+1)] = para[\"W\" + str(l+1)] - learning_rate * diff[\"dLdW\" + str(l+1)]\n",
    "        para[\"b\" + str(l+1)] = para[\"b\" + str(l+1)] - learning_rate * diff[\"dLdb\" + str(l+1)]\n",
    "    ### END CODE HERE ###\n",
    "    return para\n",
    "        "
   ]
  },
  {
   "cell_type": "code",
   "execution_count": 145,
   "metadata": {},
   "outputs": [],
   "source": [
    "def deep_nn(X, Y, dims, layer_act, learning_rate, num_iterations = 300):\n",
    "    para = initialization(dims)\n",
    "    costs = []\n",
    "    for i in range(num_iterations):\n",
    "        comput = foward(X, para, layer_act, dims)\n",
    "        pred = comput[\"A\" + str(len(dims) - 1)]\n",
    "        cost_now = cost(pred, Y)\n",
    "        \n",
    "        \n",
    "        diff = backprop(comput, Y, layer_act, dims)\n",
    "        updated = update(para, diff, learning_rate)\n",
    "        para = updated\n",
    "        \n",
    "        if i % 100 == 0:\n",
    "            print(\"cost after iteration %i: %f\" %(i, cost_now))\n",
    "            costs.append(cost_now)\n",
    "    \n",
    "    plt.plot(np.squeeze(costs))\n",
    "    print(costs)\n",
    "    plt.ylabel('cost')\n",
    "    plt.xlabel('iterations (per tens)')\n",
    "    plt.title(\"Learning rate =\" + str(learning_rate))\n",
    "    plt.show()\n",
    "    \n",
    "    return para\n",
    "    \n",
    "    "
   ]
  },
  {
   "cell_type": "markdown",
   "metadata": {},
   "source": [
    "## NOW THE MOMENT OF TRUTH"
   ]
  },
  {
   "cell_type": "code",
   "execution_count": 156,
   "metadata": {},
   "outputs": [],
   "source": [
    "def load_dataa():\n",
    "    train_dataset = h5py.File('AA/datasets/train_catvnoncat.h5', \"r\") \n",
    "    train_set_x_orig = np.array(train_dataset[\"train_set_x\"][:]) # your train set features\n",
    "    train_set_y_orig = np.array(train_dataset[\"train_set_y\"][:]) # your train set labels\n",
    "\n",
    "    test_dataset = h5py.File('AA/datasets/test_catvnoncat.h5', \"r\")\n",
    "    test_set_x_orig = np.array(test_dataset[\"test_set_x\"][:]) # your test set features\n",
    "    test_set_y_orig = np.array(test_dataset[\"test_set_y\"][:]) # your test set labels\n",
    "\n",
    "    classes = np.array(test_dataset[\"list_classes\"][:]) # the list of classes\n",
    "    \n",
    "    train_set_y_orig = train_set_y_orig.reshape((1, train_set_y_orig.shape[0]))\n",
    "    test_set_y_orig = test_set_y_orig.reshape((1, test_set_y_orig.shape[0]))\n",
    "    \n",
    "    return train_set_x_orig, train_set_y_orig, test_set_x_orig, test_set_y_orig, classes\n",
    "\n",
    "train_x_orig, train_y, test_x_orig, test_y, classes = load_dataa()\n"
   ]
  },
  {
   "cell_type": "code",
   "execution_count": 157,
   "metadata": {},
   "outputs": [
    {
     "name": "stdout",
     "output_type": "stream",
     "text": [
      "y = 0. It's a non-cat picture.\n"
     ]
    },
    {
     "data": {
      "image/png": "[encoded data removed]",
      "text/plain": [
       "<matplotlib.figure.Figure at 0x2ecf2c05f98>"
      ]
     },
     "metadata": {},
     "output_type": "display_data"
    }
   ],
   "source": [
    "# Example of a picture\n",
    "index = 10\n",
    "plt.imshow(train_x_orig[index])\n",
    "print (\"y = \" + str(train_y[0,index]) + \". It's a \" + classes[train_y[0,index]].decode(\"utf-8\") +  \" picture.\")"
   ]
  },
  {
   "cell_type": "code",
   "execution_count": 158,
   "metadata": {},
   "outputs": [
    {
     "name": "stdout",
     "output_type": "stream",
     "text": [
      "Number of training examples: 209\n",
      "Number of testing examples: 50\n",
      "Each image is of size: (64, 64, 3)\n",
      "train_x_orig shape: (209, 64, 64, 3)\n",
      "train_y shape: (1, 209)\n",
      "test_x_orig shape: (50, 64, 64, 3)\n",
      "test_y shape: (1, 50)\n"
     ]
    }
   ],
   "source": [
    "# Explore your dataset \n",
    "m_train = train_x_orig.shape[0]\n",
    "num_px = train_x_orig.shape[1]\n",
    "m_test = test_x_orig.shape[0]\n",
    "\n",
    "print (\"Number of training examples: \" + str(m_train))\n",
    "print (\"Number of testing examples: \" + str(m_test))\n",
    "print (\"Each image is of size: (\" + str(num_px) + \", \" + str(num_px) + \", 3)\")\n",
    "print (\"train_x_orig shape: \" + str(train_x_orig.shape))\n",
    "print (\"train_y shape: \" + str(train_y.shape))\n",
    "print (\"test_x_orig shape: \" + str(test_x_orig.shape))\n",
    "print (\"test_y shape: \" + str(test_y.shape))"
   ]
  },
  {
   "cell_type": "code",
   "execution_count": 159,
   "metadata": {},
   "outputs": [
    {
     "name": "stdout",
     "output_type": "stream",
     "text": [
      "train_x's shape: (12288, 209)\n",
      "test_x's shape: (12288, 50)\n"
     ]
    }
   ],
   "source": [
    "# Reshape the training and test examples \n",
    "train_x_flatten = train_x_orig.reshape(train_x_orig.shape[0], -1).T   # The \"-1\" makes reshape flatten the remaining dimensions\n",
    "test_x_flatten = test_x_orig.reshape(test_x_orig.shape[0], -1).T\n",
    "\n",
    "# Standardize data to have feature values between 0 and 1.\n",
    "train_x = train_x_flatten/255.\n",
    "test_x = test_x_flatten/255.\n",
    "\n",
    "print (\"train_x's shape: \" + str(train_x.shape))\n",
    "print (\"test_x's shape: \" + str(test_x.shape))\n"
   ]
  },
  {
   "cell_type": "code",
   "execution_count": 178,
   "metadata": {},
   "outputs": [
    {
     "name": "stdout",
     "output_type": "stream",
     "text": [
      "cost after iteration 0: 0.693050\n",
      "cost after iteration 100: 0.646432\n",
      "cost after iteration 200: 0.632514\n",
      "cost after iteration 300: 0.601502\n",
      "cost after iteration 400: 0.560197\n",
      "cost after iteration 500: 0.515830\n",
      "cost after iteration 600: 0.475490\n",
      "cost after iteration 700: 0.433916\n",
      "cost after iteration 800: 0.400798\n",
      "cost after iteration 900: 0.358071\n",
      "cost after iteration 1000: 0.339428\n",
      "cost after iteration 1100: 0.305275\n",
      "cost after iteration 1200: 0.274914\n",
      "cost after iteration 1300: 0.246818\n",
      "cost after iteration 1400: 0.198507\n",
      "cost after iteration 1500: 0.174483\n",
      "cost after iteration 1600: 0.170808\n",
      "cost after iteration 1700: 0.113065\n",
      "cost after iteration 1800: 0.096294\n",
      "cost after iteration 1900: 0.083426\n",
      "cost after iteration 2000: 0.074391\n",
      "cost after iteration 2100: 0.066307\n",
      "cost after iteration 2200: 0.059193\n",
      "cost after iteration 2300: 0.053361\n",
      "cost after iteration 2400: 0.048555\n",
      "[0.69304973565998895, 0.64643209534288493, 0.6325140647912677, 0.60150249203546646, 0.56019663116057472, 0.51583047727647302, 0.47549013139433266, 0.43391631512257489, 0.400797753620389, 0.35807050113237987, 0.33942815383664121, 0.30527536361962637, 0.27491377282130186, 0.24681768210614849, 0.19850735037466086, 0.17448318112556657, 0.17080762978096237, 0.11306524562164721, 0.096294268459371474, 0.083426179597268585, 0.074390787043190784, 0.06630748132267926, 0.059193295010381654, 0.053361403485605523, 0.048554785628770143]\n"
     ]
    },
    {
     "data": {
      "image/png": "[encoded data removed]",
      "text/plain": [
       "<matplotlib.figure.Figure at 0x2ecf2c63710>"
      ]
     },
     "metadata": {},
     "output_type": "display_data"
    }
   ],
   "source": [
    "n_x = 12288     # num_px * num_px * 3\n",
    "n_h = 7\n",
    "n_y = 1\n",
    "dims = [n_x, n_h, n_y]\n",
    "layer_act = {\"L1\":\"relu\", \"L2\":\"sigmoid\"}\n",
    "\n",
    "def deep_nn(X, Y, dims, layer_act, learning_rate, num_iterations = 300):\n",
    "    para = initialization(dims)\n",
    "    costs = []\n",
    "    for i in range(num_iterations):\n",
    "        comput = foward(X, para, layer_act, dims)\n",
    "        pred = comput[\"A\" + str(len(dims) - 1)]\n",
    "        cost_now = cost(pred, Y)\n",
    "        \n",
    "        \n",
    "        diff = backprop(comput, Y, layer_act, dims)\n",
    "        updated = update(para, diff, learning_rate)\n",
    "        para = updated\n",
    "        \n",
    "        if i % 100 == 0:\n",
    "            print(\"cost after iteration %i: %f\" %(i, cost_now))\n",
    "            costs.append(cost_now)\n",
    "    \n",
    "    plt.plot(np.squeeze(costs))\n",
    "    print(costs)\n",
    "    plt.ylabel('cost')\n",
    "    plt.xlabel('iterations (per tens)')\n",
    "    plt.title(\"Learning rate =\" + str(learning_rate))\n",
    "    plt.show()\n",
    "    \n",
    "    return para\n",
    "    \n",
    "parameters = deep_nn(train_x, train_y, dims,layer_act, learning_rate= 0.0075, num_iterations = 2500)\n"
   ]
  },
  {
   "cell_type": "code",
   "execution_count": null,
   "metadata": {
    "collapsed": true
   },
   "outputs": [],
   "source": [
    "dims = [12288,5,4,3,2,1]\n",
    "layer_act = {\"L1\":\"relu\",\"L2\":\"relu\",\"L3\":\"relu\",\"L4\":\"relu\",\"L5\":\"sigmoid\"}\n",
    "parameters = deep_nn(train_x, train_y, dims,layer_act, learning_rate= 0.0075, num_iterations = 2500)\n",
    "\n"
   ]
  }
 ],
 "metadata": {
  "kernelspec": {
   "display_name": "Python 3",
   "language": "python",
   "name": "python3"
  },
  "language_info": {
   "codemirror_mode": {
    "name": "ipython",
    "version": 3
   },
   "file_extension": ".py",
   "mimetype": "text/x-python",
   "name": "python",
   "nbconvert_exporter": "python",
   "pygments_lexer": "ipython3",
   "version": "3.6.3"
  }
 },
 "nbformat": 4,
 "nbformat_minor": 2
}
